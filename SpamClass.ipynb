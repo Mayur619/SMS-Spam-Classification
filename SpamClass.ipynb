{
 "cells": [
  {
   "cell_type": "code",
   "execution_count": 0,
   "metadata": {
    "colab": {},
    "colab_type": "code",
    "id": "QxUsH5vQDxZD"
   },
   "outputs": [],
   "source": [
    "\n",
    "import nltk\n",
    "from nltk.corpus import stopwords\n",
    "from nltk.stem import WordNetLemmatizer\n",
    "import csv\n",
    "import numpy as np\n",
    "from keras.layers import Dense\n",
    "from keras.models import Sequential\n",
    "from keras.wrappers.scikit_learn import KerasClassifier\n",
    "from sklearn.metrics import confusion_matrix\n",
    "from sklearn.feature_extraction.text import TfidfVectorizer\n",
    "from sklearn import preprocessing"
   ]
  },
  {
   "cell_type": "code",
   "execution_count": 0,
   "metadata": {
    "colab": {},
    "colab_type": "code",
    "id": "9ZL-h4NVENK1"
   },
   "outputs": [],
   "source": [
    "\n",
    "\n",
    "def Preprocessing(text):\n",
    "  # text=text.decode('utf8')\n",
    "    tokens=[word for sent in nltk.sent_tokenize(text) for word in nltk.word_tokenize(sent)]\n",
    "    stops=stopwords.words('english')\n",
    "    tokens=[t for t in tokens if t not in stops]\n",
    "    tokens=[token for token in tokens if len(token)>=3]\n",
    "    tokens=[word.lower() for word in tokens]\n",
    "    lmtzr=WordNetLemmatizer()\n",
    "    tokens=[lmtzr.lemmatize(token) for token in tokens]\n",
    "    return ' '.join(tokens)\n",
    "\n",
    "def Classifier():\n",
    "    classifier=Sequential()\n",
    "    classifier.add(Dense(units=5907,input_shape=(5907,),activation='relu'))\n",
    "    classifier.add(Dense(units=200,activation='relu'))\n",
    "    classifier.add(Dense(units=2,activation='softmax'))\n",
    "    classifier.compile(optimizer='adam',loss='categorical_crossentropy')\n",
    "    return classifier"
   ]
  },
  {
   "cell_type": "code",
   "execution_count": 0,
   "metadata": {
    "colab": {},
    "colab_type": "code",
    "id": "PZ93rhEWEPpY"
   },
   "outputs": [],
   "source": [
    "smsdata=open(list(uploaded.keys())[0])\n",
    "sms_data=[]\n",
    "sms_label=[]\n",
    "csv_data=csv.reader(smsdata,delimiter='\\t')\n",
    "for line in csv_data:\n",
    "    sms_label.append(line[0])\n",
    "    sms_data.append(Preprocessing(line[1]))"
   ]
  },
  {
   "cell_type": "code",
   "execution_count": 0,
   "metadata": {
    "colab": {},
    "colab_type": "code",
    "id": "rz5VKIVuur67"
   },
   "outputs": [],
   "source": [
    "import pickle"
   ]
  },
  {
   "cell_type": "code",
   "execution_count": 0,
   "metadata": {
    "colab": {},
    "colab_type": "code",
    "id": "i8W0FVqAEUcy"
   },
   "outputs": [],
   "source": [
    "train_set_size=int(round(len(sms_data)*0.70))\n",
    "x_train=np.array([''.join(el) for el in sms_data[0:train_set_size]])\n",
    "y_train=np.array([el for el in sms_label[0:train_set_size]])\n",
    "x_test=np.array([''.join(el) for el in sms_data[train_set_size+1:len(sms_data)]])\n",
    "y_test=np.array([el for el in sms_label[train_set_size+1:len(sms_label)]])\n",
    "le = preprocessing.LabelEncoder()\n",
    "y_train=le.fit_transform(y_train)\n",
    "ohe=preprocessing.OneHotEncoder()\n",
    "y_train=ohe.fit_transform(np.reshape(y_train,(-1,1)))\n",
    "pickle.dump(le,open('encoding','wb'))"
   ]
  },
  {
   "cell_type": "code",
   "execution_count": 0,
   "metadata": {
    "colab": {},
    "colab_type": "code",
    "id": "vhObedRMEZNc"
   },
   "outputs": [],
   "source": [
    "tvect = TfidfVectorizer(min_df=2, ngram_range=(1, 2), stop_words='english', strip_accents='unicode', norm='l2')\n",
    "X_train=tvect.fit_transform(x_train)\n",
    "X_test=tvect.transform(x_test)\n",
    "pickle.dump(tvect,open('vect','wb'))"
   ]
  },
  {
   "cell_type": "code",
   "execution_count": 0,
   "metadata": {
    "colab": {},
    "colab_type": "code",
    "id": "AszoWta8IIjU"
   },
   "outputs": [],
   "source": [
    "import tensorflow as tf\n",
    "config = tf.ConfigProto()\n",
    "config.gpu_options.allow_growth = True"
   ]
  },
  {
   "cell_type": "code",
   "execution_count": 0,
   "metadata": {
    "colab": {
     "base_uri": "https://localhost:8080/",
     "height": 3437
    },
    "colab_type": "code",
    "id": "oQqEODNqEbmp",
    "outputId": "98901c75-ffa6-41ec-8ab7-b400f66ef5aa"
   },
   "outputs": [
    {
     "name": "stdout",
     "output_type": "stream",
     "text": [
      "Epoch 1/100\n",
      "3900/3900 [==============================] - 2s 449us/step - loss: 0.4267\n",
      "Epoch 2/100\n",
      "3900/3900 [==============================] - 1s 164us/step - loss: 0.1770\n",
      "Epoch 3/100\n",
      "3900/3900 [==============================] - 1s 168us/step - loss: 0.1158\n",
      "Epoch 4/100\n",
      "3900/3900 [==============================] - 1s 169us/step - loss: 0.1048\n",
      "Epoch 5/100\n",
      "3900/3900 [==============================] - 1s 166us/step - loss: 0.0977\n",
      "Epoch 6/100\n",
      "3900/3900 [==============================] - 1s 169us/step - loss: 0.0927\n",
      "Epoch 7/100\n",
      "3900/3900 [==============================] - 1s 169us/step - loss: 0.0859\n",
      "Epoch 8/100\n",
      "3900/3900 [==============================] - 1s 172us/step - loss: 0.0755\n",
      "Epoch 9/100\n",
      "3900/3900 [==============================] - 1s 169us/step - loss: 0.0575\n",
      "Epoch 10/100\n",
      "3900/3900 [==============================] - 1s 170us/step - loss: 0.0335\n",
      "Epoch 11/100\n",
      "3900/3900 [==============================] - 1s 169us/step - loss: 0.0157\n",
      "Epoch 12/100\n",
      "3900/3900 [==============================] - 1s 170us/step - loss: 0.0075\n",
      "Epoch 13/100\n",
      "3900/3900 [==============================] - 1s 170us/step - loss: 0.0043\n",
      "Epoch 14/100\n",
      "3900/3900 [==============================] - 1s 169us/step - loss: 0.0031\n",
      "Epoch 15/100\n",
      "3900/3900 [==============================] - 1s 170us/step - loss: 0.0026\n",
      "Epoch 16/100\n",
      "2500/3900 [==================>...........] - ETA: 0s - loss: 0.00303900/3900 [==============================] - 1s 171us/step - loss: 0.0023\n",
      "Epoch 17/100\n",
      "3900/3900 [==============================] - 1s 168us/step - loss: 0.0021\n",
      "Epoch 18/100\n",
      "3900/3900 [==============================] - 1s 169us/step - loss: 0.0020\n",
      "Epoch 19/100\n",
      "3900/3900 [==============================] - 1s 171us/step - loss: 0.0019\n",
      "Epoch 20/100\n",
      "3900/3900 [==============================] - 1s 173us/step - loss: 0.0018\n",
      "Epoch 21/100\n",
      "3900/3900 [==============================] - 1s 169us/step - loss: 0.0018\n",
      "Epoch 22/100\n",
      "3900/3900 [==============================] - 1s 168us/step - loss: 0.0018\n",
      "Epoch 23/100\n",
      "3900/3900 [==============================] - 1s 169us/step - loss: 0.0017\n",
      "Epoch 24/100\n",
      "3900/3900 [==============================] - 1s 171us/step - loss: 0.0017\n",
      "Epoch 25/100\n",
      "3900/3900 [==============================] - 1s 170us/step - loss: 0.0016\n",
      "Epoch 26/100\n",
      "3900/3900 [==============================] - 1s 167us/step - loss: 0.0016\n",
      "Epoch 27/100\n",
      "3900/3900 [==============================] - 1s 174us/step - loss: 0.0016\n",
      "Epoch 28/100\n",
      "3900/3900 [==============================] - 1s 172us/step - loss: 0.0016\n",
      "Epoch 29/100\n",
      "3900/3900 [==============================] - 1s 168us/step - loss: 0.0016\n",
      "Epoch 30/100\n",
      "3900/3900 [==============================] - 1s 168us/step - loss: 0.0016\n",
      "Epoch 31/100\n",
      "3000/3900 [======================>.......] - ETA: 0s - loss: 0.00193900/3900 [==============================] - 1s 168us/step - loss: 0.0016\n",
      "Epoch 32/100\n",
      "3900/3900 [==============================] - 1s 169us/step - loss: 0.0016\n",
      "Epoch 33/100\n",
      "3900/3900 [==============================] - 1s 169us/step - loss: 0.0016\n",
      "Epoch 34/100\n",
      "3900/3900 [==============================] - 1s 167us/step - loss: 0.0015\n",
      "Epoch 35/100\n",
      "3900/3900 [==============================] - 1s 168us/step - loss: 0.0015\n",
      "Epoch 36/100\n",
      "3900/3900 [==============================] - 1s 170us/step - loss: 0.0015\n",
      "Epoch 37/100\n",
      "3900/3900 [==============================] - 1s 171us/step - loss: 0.0015\n",
      "Epoch 38/100\n",
      "3900/3900 [==============================] - 1s 169us/step - loss: 0.0015\n",
      "Epoch 39/100\n",
      "3900/3900 [==============================] - 1s 169us/step - loss: 0.0015\n",
      "Epoch 40/100\n",
      "3900/3900 [==============================] - 1s 167us/step - loss: 0.0015\n",
      "Epoch 41/100\n",
      "3900/3900 [==============================] - 1s 170us/step - loss: 0.0015\n",
      "Epoch 42/100\n",
      "3900/3900 [==============================] - 1s 171us/step - loss: 0.0015\n",
      "Epoch 43/100\n",
      "3900/3900 [==============================] - 1s 171us/step - loss: 0.0015\n",
      "Epoch 44/100\n",
      "3900/3900 [==============================] - 1s 168us/step - loss: 0.0015\n",
      "Epoch 45/100\n",
      "3900/3900 [==============================] - 1s 168us/step - loss: 0.0015\n",
      "Epoch 46/100\n",
      "3000/3900 [======================>.......] - ETA: 0s - loss: 0.0018    3900/3900 [==============================] - 1s 169us/step - loss: 0.0015\n",
      "Epoch 47/100\n",
      "3900/3900 [==============================] - 1s 169us/step - loss: 0.0015\n",
      "Epoch 48/100\n",
      "3900/3900 [==============================] - 1s 168us/step - loss: 0.0015\n",
      "Epoch 49/100\n",
      "3900/3900 [==============================] - 1s 168us/step - loss: 0.0015\n",
      "Epoch 50/100\n",
      "3900/3900 [==============================] - 1s 169us/step - loss: 0.0015\n",
      "Epoch 51/100\n",
      "3900/3900 [==============================] - 1s 172us/step - loss: 0.0015\n",
      "Epoch 52/100\n",
      "3900/3900 [==============================] - 1s 170us/step - loss: 0.0015\n",
      "Epoch 53/100\n",
      "3900/3900 [==============================] - 1s 168us/step - loss: 0.0015\n",
      "Epoch 54/100\n",
      "3900/3900 [==============================] - 1s 168us/step - loss: 0.0014\n",
      "Epoch 55/100\n",
      "3900/3900 [==============================] - 1s 168us/step - loss: 0.0014\n",
      "Epoch 56/100\n",
      "3900/3900 [==============================] - 1s 169us/step - loss: 0.0015\n",
      "Epoch 57/100\n",
      "3900/3900 [==============================] - 1s 169us/step - loss: 0.0015\n",
      "Epoch 58/100\n",
      "3900/3900 [==============================] - 1s 168us/step - loss: 0.0014\n",
      "Epoch 59/100\n",
      "3900/3900 [==============================] - 1s 169us/step - loss: 0.0015\n",
      "Epoch 60/100\n",
      "3900/3900 [==============================] - 1s 174us/step - loss: 0.0014\n",
      "Epoch 61/100\n",
      "3000/3900 [======================>.......] - ETA: 0s - loss: 0.00183900/3900 [==============================] - 1s 171us/step - loss: 0.0015\n",
      "Epoch 62/100\n",
      "3900/3900 [==============================] - 1s 171us/step - loss: 0.0015\n",
      "Epoch 63/100\n",
      "3900/3900 [==============================] - 1s 171us/step - loss: 0.0014\n",
      "Epoch 64/100\n",
      "3900/3900 [==============================] - 1s 173us/step - loss: 0.0015\n",
      "Epoch 65/100\n",
      "3900/3900 [==============================] - 1s 167us/step - loss: 0.0014\n",
      "Epoch 66/100\n",
      "3900/3900 [==============================] - 1s 168us/step - loss: 0.0014\n",
      "Epoch 67/100\n",
      "3900/3900 [==============================] - 1s 169us/step - loss: 0.0015\n",
      "Epoch 68/100\n",
      "3900/3900 [==============================] - 1s 172us/step - loss: 0.0014\n",
      "Epoch 69/100\n",
      "3900/3900 [==============================] - 1s 171us/step - loss: 0.0014\n",
      "Epoch 70/100\n",
      "3900/3900 [==============================] - 1s 173us/step - loss: 0.0014\n",
      "Epoch 71/100\n",
      "3900/3900 [==============================] - 1s 171us/step - loss: 0.0014\n",
      "Epoch 72/100\n",
      "3900/3900 [==============================] - 1s 167us/step - loss: 0.0014\n",
      "Epoch 73/100\n",
      "3900/3900 [==============================] - 1s 171us/step - loss: 0.0014\n",
      "Epoch 74/100\n",
      "3900/3900 [==============================] - 1s 170us/step - loss: 0.0014\n",
      "Epoch 75/100\n",
      "3900/3900 [==============================] - 1s 169us/step - loss: 0.0015\n",
      "Epoch 76/100\n",
      "3000/3900 [======================>.......] - ETA: 0s - loss: 0.00173900/3900 [==============================] - 1s 171us/step - loss: 0.0014\n",
      "Epoch 77/100\n",
      "3900/3900 [==============================] - 1s 171us/step - loss: 0.0014\n",
      "Epoch 78/100\n",
      "3900/3900 [==============================] - 1s 170us/step - loss: 0.0014\n",
      "Epoch 79/100\n",
      "3900/3900 [==============================] - 1s 168us/step - loss: 0.0014\n",
      "Epoch 80/100\n",
      "3900/3900 [==============================] - 1s 168us/step - loss: 0.0014\n",
      "Epoch 81/100\n",
      "3900/3900 [==============================] - 1s 170us/step - loss: 0.0014\n",
      "Epoch 82/100\n",
      "3900/3900 [==============================] - 1s 171us/step - loss: 0.0014\n",
      "Epoch 83/100\n",
      "3900/3900 [==============================] - 1s 169us/step - loss: 0.0015\n",
      "Epoch 84/100\n",
      "3900/3900 [==============================] - 1s 171us/step - loss: 0.0014\n",
      "Epoch 85/100\n",
      "3900/3900 [==============================] - 1s 169us/step - loss: 0.0014\n",
      "Epoch 86/100\n",
      "3900/3900 [==============================] - 1s 168us/step - loss: 0.0014\n",
      "Epoch 87/100\n",
      "3900/3900 [==============================] - 1s 168us/step - loss: 0.0015\n",
      "Epoch 88/100\n",
      "3900/3900 [==============================] - 1s 169us/step - loss: 0.0015\n",
      "Epoch 89/100\n",
      "3900/3900 [==============================] - 1s 167us/step - loss: 0.0014\n",
      "Epoch 90/100\n",
      "3900/3900 [==============================] - 1s 167us/step - loss: 0.0014\n",
      "Epoch 91/100\n"
     ]
    },
    {
     "name": "stdout",
     "output_type": "stream",
     "text": [
      "3000/3900 [======================>.......] - ETA: 0s - loss: 1.9110e-043900/3900 [==============================] - 1s 168us/step - loss: 0.0015\n",
      "Epoch 92/100\n",
      "3900/3900 [==============================] - 1s 166us/step - loss: 0.0014\n",
      "Epoch 93/100\n",
      "3900/3900 [==============================] - 1s 166us/step - loss: 0.0014\n",
      "Epoch 94/100\n",
      "3900/3900 [==============================] - 1s 167us/step - loss: 0.0015\n",
      "Epoch 95/100\n",
      "3900/3900 [==============================] - 1s 167us/step - loss: 0.0014\n",
      "Epoch 96/100\n",
      "3900/3900 [==============================] - 1s 167us/step - loss: 0.0015\n",
      "Epoch 97/100\n",
      "3900/3900 [==============================] - 1s 169us/step - loss: 0.0014\n",
      "Epoch 98/100\n",
      "3900/3900 [==============================] - 1s 168us/step - loss: 0.0014\n",
      "Epoch 99/100\n",
      "3900/3900 [==============================] - 1s 166us/step - loss: 0.0014\n",
      "Epoch 100/100\n",
      "3900/3900 [==============================] - 1s 171us/step - loss: 0.0014\n"
     ]
    }
   ],
   "source": [
    "\n",
    "Multiclass_Classifier=Classifier()\n",
    "Multiclass_Classifier.fit(X_train,y_train,batch_size=500,epochs=100)\n",
    "y_pred=Multiclass_Classifier.predict(X_test)"
   ]
  },
  {
   "cell_type": "code",
   "execution_count": 0,
   "metadata": {
    "colab": {},
    "colab_type": "code",
    "id": "OwUMdVmaEiWw"
   },
   "outputs": [],
   "source": [
    "Multiclass_Classifier.save('model.h5')"
   ]
  },
  {
   "cell_type": "code",
   "execution_count": 0,
   "metadata": {
    "colab": {
     "base_uri": "https://localhost:8080/",
     "height": 34
    },
    "colab_type": "code",
    "id": "gY1h8vkyHVRU",
    "outputId": "8c14daf3-ace9-4101-cc26-d737cc2c1990"
   },
   "outputs": [
    {
     "name": "stdout",
     "output_type": "stream",
     "text": [
      "[[0.60491484 0.39508516]]\n"
     ]
    }
   ],
   "source": [
    "print(Multiclass_Classifier.predict(tvect.transform([Preprocessing(\"Bumper offer only for you.Hurry up,Dont miss the chance\")])))"
   ]
  },
  {
   "cell_type": "code",
   "execution_count": 0,
   "metadata": {
    "colab": {
     "base_uri": "https://localhost:8080/",
     "height": 34
    },
    "colab_type": "code",
    "id": "j3mvmgKVccHf",
    "outputId": "2d7e45bf-7d55-42dc-d4c3-e97542a0d296"
   },
   "outputs": [
    {
     "name": "stdout",
     "output_type": "stream",
     "text": [
      "[1]\n"
     ]
    }
   ],
   "source": [
    "from keras.models import load_model\n",
    "from keras.layers import Dense\n",
    "from keras.models import Sequential\n",
    "from keras.wrappers.scikit_learn import KerasClassifier\n",
    "from sklearn.metrics import confusion_matrix\n",
    "from sklearn.feature_extraction.text import TfidfVectorizer\n",
    "import pickle\n",
    "import nltk\n",
    "from nltk.corpus import stopwords\n",
    "from nltk.stem import WordNetLemmatizer\n",
    "\n",
    "\n",
    "def Preprocessing(text):\n",
    "  # text=text.decode('utf8')\n",
    "    tokens=[word for sent in nltk.sent_tokenize(text) for word in nltk.word_tokenize(sent)]\n",
    "    stops=stopwords.words('english')\n",
    "    tokens=[t for t in tokens if t not in stops]\n",
    "    tokens=[token for token in tokens if len(token)>=3]\n",
    "    tokens=[word.lower() for word in tokens]\n",
    "    lmtzr=WordNetLemmatizer()\n",
    "    tokens=[lmtzr.lemmatize(token) for token in tokens]\n",
    "    return ' '.join(tokens)\n",
    "\n",
    "classifier=load_model('model.h5')\n",
    "tvect=pickle.load(open('vect','rb'))\n",
    "le=pickle.load(open('encoding','rb'))\n",
    "print(classifier.predict_classes(tvect.transform([Preprocessing(\"Had your mobile 11 months or more? U R entitled to Update to the latest colour mobiles with camera for Free! Call The Mobile Update Co FREE on 08002986030\")])))"
   ]
  },
  {
   "cell_type": "code",
   "execution_count": 0,
   "metadata": {
    "colab": {},
    "colab_type": "code",
    "id": "M7mFTbmr_5aB"
   },
   "outputs": [],
   "source": []
  }
 ],
 "metadata": {
  "accelerator": "GPU",
  "colab": {
   "collapsed_sections": [],
   "name": "SpamClass.ipynb",
   "provenance": [],
   "toc_visible": true,
   "version": "0.3.2"
  },
  "kernelspec": {
   "display_name": "Python 3",
   "language": "python",
   "name": "python3"
  },
  "language_info": {
   "codemirror_mode": {
    "name": "ipython",
    "version": 3
   },
   "file_extension": ".py",
   "mimetype": "text/x-python",
   "name": "python",
   "nbconvert_exporter": "python",
   "pygments_lexer": "ipython3",
   "version": "3.6.7"
  }
 },
 "nbformat": 4,
 "nbformat_minor": 1
}
